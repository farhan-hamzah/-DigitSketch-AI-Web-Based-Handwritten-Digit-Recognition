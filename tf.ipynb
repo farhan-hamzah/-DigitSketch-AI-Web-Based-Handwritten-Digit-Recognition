{
 "cells": [
  {
   "cell_type": "code",
   "execution_count": 28,
   "id": "805efbb5-6881-4fed-922e-debf9b7fbcd0",
   "metadata": {},
   "outputs": [
    {
     "name": "stdout",
     "output_type": "stream",
     "text": [
      "Epoch 1/10\n"
     ]
    },
    {
     "name": "stderr",
     "output_type": "stream",
     "text": [
      "C:\\Users\\LENOVO\\AppData\\Local\\Programs\\Python\\Python310\\lib\\site-packages\\keras\\src\\layers\\convolutional\\base_conv.py:113: UserWarning: Do not pass an `input_shape`/`input_dim` argument to a layer. When using Sequential models, prefer using an `Input(shape)` object as the first layer in the model instead.\n",
      "  super().__init__(activity_regularizer=activity_regularizer, **kwargs)\n"
     ]
    },
    {
     "name": "stdout",
     "output_type": "stream",
     "text": [
      "\u001b[1m1688/1688\u001b[0m \u001b[32m━━━━━━━━━━━━━━━━━━━━\u001b[0m\u001b[37m\u001b[0m \u001b[1m17s\u001b[0m 9ms/step - accuracy: 0.8540 - loss: 0.4493 - val_accuracy: 0.9858 - val_loss: 0.0492\n",
      "Epoch 2/10\n",
      "\u001b[1m1688/1688\u001b[0m \u001b[32m━━━━━━━━━━━━━━━━━━━━\u001b[0m\u001b[37m\u001b[0m \u001b[1m14s\u001b[0m 8ms/step - accuracy: 0.9782 - loss: 0.0763 - val_accuracy: 0.9887 - val_loss: 0.0413\n",
      "Epoch 3/10\n",
      "\u001b[1m1688/1688\u001b[0m \u001b[32m━━━━━━━━━━━━━━━━━━━━\u001b[0m\u001b[37m\u001b[0m \u001b[1m16s\u001b[0m 9ms/step - accuracy: 0.9829 - loss: 0.0579 - val_accuracy: 0.9900 - val_loss: 0.0369\n",
      "Epoch 4/10\n",
      "\u001b[1m1688/1688\u001b[0m \u001b[32m━━━━━━━━━━━━━━━━━━━━\u001b[0m\u001b[37m\u001b[0m \u001b[1m16s\u001b[0m 10ms/step - accuracy: 0.9869 - loss: 0.0457 - val_accuracy: 0.9907 - val_loss: 0.0351\n",
      "Epoch 5/10\n",
      "\u001b[1m1688/1688\u001b[0m \u001b[32m━━━━━━━━━━━━━━━━━━━━\u001b[0m\u001b[37m\u001b[0m \u001b[1m16s\u001b[0m 10ms/step - accuracy: 0.9892 - loss: 0.0349 - val_accuracy: 0.9908 - val_loss: 0.0364\n",
      "Epoch 6/10\n",
      "\u001b[1m1688/1688\u001b[0m \u001b[32m━━━━━━━━━━━━━━━━━━━━\u001b[0m\u001b[37m\u001b[0m \u001b[1m14s\u001b[0m 8ms/step - accuracy: 0.9910 - loss: 0.0298 - val_accuracy: 0.9917 - val_loss: 0.0348\n",
      "Epoch 7/10\n",
      "\u001b[1m1688/1688\u001b[0m \u001b[32m━━━━━━━━━━━━━━━━━━━━\u001b[0m\u001b[37m\u001b[0m \u001b[1m16s\u001b[0m 10ms/step - accuracy: 0.9926 - loss: 0.0250 - val_accuracy: 0.9917 - val_loss: 0.0317\n",
      "Epoch 8/10\n",
      "\u001b[1m1688/1688\u001b[0m \u001b[32m━━━━━━━━━━━━━━━━━━━━\u001b[0m\u001b[37m\u001b[0m \u001b[1m15s\u001b[0m 9ms/step - accuracy: 0.9931 - loss: 0.0224 - val_accuracy: 0.9902 - val_loss: 0.0430\n",
      "Epoch 9/10\n",
      "\u001b[1m1688/1688\u001b[0m \u001b[32m━━━━━━━━━━━━━━━━━━━━\u001b[0m\u001b[37m\u001b[0m \u001b[1m16s\u001b[0m 9ms/step - accuracy: 0.9929 - loss: 0.0217 - val_accuracy: 0.9910 - val_loss: 0.0367\n",
      "Epoch 10/10\n",
      "\u001b[1m1688/1688\u001b[0m \u001b[32m━━━━━━━━━━━━━━━━━━━━\u001b[0m\u001b[37m\u001b[0m \u001b[1m16s\u001b[0m 9ms/step - accuracy: 0.9940 - loss: 0.0179 - val_accuracy: 0.9912 - val_loss: 0.0388\n",
      "Test accuracy: 0.9927\n"
     ]
    }
   ],
   "source": [
    "import numpy as np\n",
    "import matplotlib.pyplot as plt\n",
    "import tensorflow as tf\n",
    "from tensorflow import keras\n",
    "from tensorflow.keras import layers, models\n",
    "from tensorflow.keras.preprocessing import image\n",
    "import cv2\n",
    "\n",
    "(x_train, y_train), (x_test, y_test) = keras.datasets.mnist.load_data()\n",
    "x_train = x_train / 255.0\n",
    "x_test = x_test / 255.0\n",
    "x_train = x_train.reshape(-1, 28, 28, 1)\n",
    "x_test = x_test.reshape(-1, 28, 28, 1)\n",
    "\n",
    "model = models.Sequential([\n",
    "    layers.Conv2D(32, (3,3), activation='relu', input_shape=(28, 28, 1)),\n",
    "    layers.MaxPooling2D(2,2),\n",
    "    layers.Conv2D(64, (3,3), activation='relu'),\n",
    "    layers.MaxPooling2D(2,2),\n",
    "    layers.Conv2D(128, (3,3), activation='relu'),\n",
    "    layers.Dropout(0.25),\n",
    "    layers.Flatten(),\n",
    "    layers.Dense(128, activation='relu'),\n",
    "    layers.Dropout(0.5),\n",
    "    layers.Dense(10, activation='softmax')\n",
    "])\n",
    "model.compile(optimizer='adam',\n",
    "              loss='sparse_categorical_crossentropy',\n",
    "              metrics=['accuracy'])\n",
    "early_stop = keras.callbacks.EarlyStopping(patience=3, restore_best_weights=True)\n",
    "\n",
    "history = model.fit(\n",
    "    x_train, y_train,\n",
    "    epochs=10,\n",
    "    validation_split=0.1,\n",
    "    callbacks=[early_stop],\n",
    "    verbose=1\n",
    ")\n",
    "test_loss, test_acc = model.evaluate(x_test, y_test, verbose=0)\n",
    "print(f\"Test accuracy: {test_acc:.4f}\")\n",
    "model.save(\"mnist_cnn_improved.keras\")\n",
    "\n",
    "def preprocess_image(img_path):\n",
    "    try:\n",
    "        img = cv2.imread(img_path, cv2.IMREAD_GRAYSCALE)        \n",
    "        if img is None:\n",
    "            img = image.load_img(img_path, target_size=(28, 28), color_mode='grayscale')\n",
    "            img = image.img_to_array(img)\n",
    "            img = img.reshape(28, 28)\n",
    "        else:\n",
    "            img = cv2.resize(img, (28, 28))\n",
    "        img = img / 255.0\n",
    "        if np.mean(img) > 0.5:  \n",
    "            img = 1 - img\n",
    "        img = np.where(img > 0.3, 1.0, 0.0)\n",
    "        img = img.reshape(1, 28, 28, 1)        \n",
    "        return img\n",
    "    except Exception as e:\n",
    "        print(f\"Error dalam preprocessing: {str(e)}\")\n",
    "        return None\n",
    "\n",
    "def predict_digit(img_path, model):\n",
    "    try:\n",
    "        img_array = preprocess_image(img_path)\n",
    "        if img_array is None:\n",
    "            print(\"Gagal memproses gambar\")\n",
    "            return None, 0\n",
    "        prediction = model.predict(img_array, verbose=0)\n",
    "        predicted_digit = np.argmax(prediction)\n",
    "        confidence = np.max(prediction) * 100\n",
    "        plt.figure(figsize=(12, 4))\n",
    "        plt.subplot(1, 3, 1)\n",
    "        try:\n",
    "            original_img = cv2.imread(img_path, cv2.IMREAD_GRAYSCALE)\n",
    "            if original_img is not None:\n",
    "                plt.imshow(original_img, cmap='gray')\n",
    "            else:\n",
    "                original_img = image.load_img(img_path, color_mode='grayscale')\n",
    "                plt.imshow(original_img, cmap='gray')\n",
    "        except:\n",
    "            print(\"Tidak bisa menampilkan gambar asli\")\n",
    "        \n",
    "        plt.title('Gambar Asli')\n",
    "        plt.axis('off')\n",
    "        plt.subplot(1, 3, 2)\n",
    "        plt.imshow(img_array.reshape(28, 28), cmap='gray')\n",
    "        plt.title(f'Setelah Preprocessing')\n",
    "        plt.axis('off')        \n",
    "        plt.subplot(1, 3, 3)\n",
    "        digits = range(10)\n",
    "        probabilities = prediction[0] * 100\n",
    "        bars = plt.bar(digits, probabilities)\n",
    "        bars[predicted_digit].set_color('red')\n",
    "        plt.title(f'Prediksi: {predicted_digit} ({confidence:.1f}%)')\n",
    "        plt.xlabel('Digit')\n",
    "        plt.ylabel('Probabilitas (%)')\n",
    "        plt.xticks(digits)\n",
    "        \n",
    "        plt.tight_layout()\n",
    "        plt.show()\n",
    "        \n",
    "        print(\"Probabilitas per kelas:\")\n",
    "        for i, prob in enumerate(prediction[0]):\n",
    "            print(f\"Digit {i}: {prob:.4f} ({prob*100:.1f}%)\")\n",
    "        \n",
    "        if confidence < 70:\n",
    "            print(f\"\\n⚠️  Peringatan: Confidence rendah ({confidence:.1f}%)\")\n",
    "            print(\"Kemungkinan penyebab:\")\n",
    "            print(\"- Gambar tidak jelas/blur\")\n",
    "            print(\"- Angka tidak terpusat\")\n",
    "            print(\"- Kontras rendah\")\n",
    "            print(\"- Gaya penulisan sangat berbeda dari dataset MNIST\")\n",
    "        \n",
    "        return predicted_digit, confidence\n",
    "        \n",
    "    except Exception as e:\n",
    "        print(f\"Error dalam prediksi: {str(e)}\")\n",
    "        return None, 0\n",
    "\n",
    "def test_prediction(img_path):\n",
    "    try:\n",
    "        model = keras.models.load_model(\"mnist_cnn_improved.keras\")\n",
    "        print(\"Model berhasil dimuat!\")\n",
    "        predicted_digit, confidence = predict_digit(img_path, model)\n",
    "        if predicted_digit is not None:\n",
    "            print(f\"\\n📊 Hasil Prediksi: {predicted_digit}\")\n",
    "            print(f\"🎯 Confidence: {confidence:.1f}%\")\n",
    "        \n",
    "    except Exception as e:\n",
    "        print(f\"Error: {str(e)}\")\n",
    "        print(\"Pastikan model sudah dilatih dan file gambar tersedia\")\n",
    "\n"
   ]
  },
  {
   "cell_type": "code",
   "execution_count": 29,
   "id": "2555d76d-16d8-4a99-93b4-033d091aab04",
   "metadata": {},
   "outputs": [],
   "source": [
    "def prediksi_angka(model, img_path):\n",
    "    img = image.load_img(img_path, target_size=(28, 28), color_mode='grayscale')\n",
    "    img_array = image.img_to_array(img) / 255.0\n",
    "    img_array = np.expand_dims(img_array, axis=0)  # (1, 28, 28, 1)\n",
    "    prediction = model.predict(img_array)\n",
    "    predicted_digit = np.argmax(prediction)\n",
    "    plt.imshow(img_array.reshape(28, 28), cmap='gray')\n",
    "    plt.title(f\"Prediksi angka: {predicted_digit}\")\n",
    "    plt.axis('off')\n",
    "    plt.show()\n",
    "    \n",
    "    return predicted_digit\n"
   ]
  },
  {
   "cell_type": "code",
   "execution_count": 34,
   "id": "0dc8d567-357b-4484-ac0a-648d46cd9e98",
   "metadata": {},
   "outputs": [
    {
     "name": "stdout",
     "output_type": "stream",
     "text": [
      "\u001b[1m1/1\u001b[0m \u001b[32m━━━━━━━━━━━━━━━━━━━━\u001b[0m\u001b[37m\u001b[0m \u001b[1m0s\u001b[0m 30ms/step\n"
     ]
    },
    {
     "data": {
      "image/png": "[encoded data removed]",
      "text/plain": [
       "<Figure size 640x480 with 1 Axes>"
      ]
     },
     "metadata": {},
     "output_type": "display_data"
    },
    {
     "name": "stdout",
     "output_type": "stream",
     "text": [
      "Model memprediksi angka: 3\n"
     ]
    }
   ],
   "source": [
    "hasil = prediksi_angka(model, \"testAngka3.png\")\n",
    "print(\"Model memprediksi angka:\", hasil)\n"
   ]
  },
  {
   "cell_type": "code",
   "execution_count": null,
   "id": "65186422-27d0-496a-9cd2-76cab317ddee",
   "metadata": {},
   "outputs": [],
   "source": []
  }
 ],
 "metadata": {
  "kernelspec": {
   "display_name": "Python (TensorFlow)",
   "language": "python",
   "name": "tf-env"
  },
  "language_info": {
   "codemirror_mode": {
    "name": "ipython",
    "version": 3
   },
   "file_extension": ".py",
   "mimetype": "text/x-python",
   "name": "python",
   "nbconvert_exporter": "python",
   "pygments_lexer": "ipython3",
   "version": "3.10.10"
  }
 },
 "nbformat": 4,
 "nbformat_minor": 5
}
